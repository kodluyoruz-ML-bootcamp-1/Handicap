{
 "cells": [
  {
   "cell_type": "code",
   "execution_count": 11,
   "metadata": {},
   "outputs": [],
   "source": [
    "import pandas as pd \n",
    "import numpy as np\n",
    "import sqlite3\n",
    "import itertools\n",
    "import re\n",
    "import random\n",
    "import math"
   ]
  },
  {
   "cell_type": "code",
   "execution_count": 27,
   "metadata": {},
   "outputs": [],
   "source": [
    "def null_deger(veri):\n",
    "    data = veri.isnull().sum()\n",
    "    for i in data.keys():\n",
    "        if data[i] != 0:\n",
    "            print(str(i)+\" : \"+str(data[i]))\n",
    "    print(veri.shape)\n",
    "    "
   ]
  },
  {
   "cell_type": "code",
   "execution_count": 25,
   "metadata": {},
   "outputs": [],
   "source": [
    "def null_deger2(veri):\n",
    "    data = veri.isnull().sum()\n",
    "    a = {}\n",
    "    for i in data.keys():\n",
    "        if data[i] != 0:\n",
    "            a[i] = data[i]    \n",
    "    return a"
   ]
  },
  {
   "cell_type": "code",
   "execution_count": 4,
   "metadata": {},
   "outputs": [],
   "source": [
    "def kaydet(a,name):\n",
    "    a.to_excel(name+\".xlsx\",index=False)"
   ]
  },
  {
   "cell_type": "code",
   "execution_count": null,
   "metadata": {},
   "outputs": [],
   "source": []
  },
  {
   "cell_type": "code",
   "execution_count": 5,
   "metadata": {},
   "outputs": [],
   "source": [
    "def doldur(a):\n",
    "    \n",
    "    \n",
    "    null_data = a[re.findall(\".H\",a.columns)].fillna(a[re.findall(\".H\",a.columns)].mean(axis=1))\n",
    "    return null_data"
   ]
  },
  {
   "cell_type": "code",
   "execution_count": 38,
   "metadata": {},
   "outputs": [
    {
     "name": "stdout",
     "output_type": "stream",
     "text": [
      "season\n",
      "home_team_api_id\n",
      "away_team_api_id\n",
      "home_team_goal\n",
      "away_team_goal\n",
      "B365H\n",
      "B365D\n",
      "B365A\n",
      "BWH\n",
      "BWD\n",
      "BWA\n",
      "IWH\n",
      "IWD\n",
      "IWA\n",
      "LBH\n",
      "LBD\n",
      "LBA\n",
      "WHH\n",
      "WHD\n",
      "WHA\n",
      "SJH\n",
      "SJD\n",
      "SJA\n",
      "VCH\n",
      "VCD\n",
      "VCA\n",
      "GBH\n",
      "GBD\n",
      "GBA\n"
     ]
    }
   ],
   "source": [
    "adres = \"silindi2(BSHsız).xlsx\"\n",
    "\n",
    "df = pd.read_excel(adres,index_col=0, error_bad_lines=False)\n",
    "\n",
    "for i in df.columns:\n",
    "    print(i)"
   ]
  },
  {
   "cell_type": "code",
   "execution_count": 26,
   "metadata": {},
   "outputs": [
    {
     "name": "stdout",
     "output_type": "stream",
     "text": [
      "BWH : 1\n",
      "BWD : 1\n",
      "BWA : 1\n",
      "IWH : 44\n",
      "IWD : 44\n",
      "IWA : 44\n",
      "LBH : 25\n",
      "LBD : 25\n",
      "LBA : 25\n",
      "WHH : 17\n",
      "WHD : 17\n",
      "WHA : 17\n",
      "SJH : 5430\n",
      "SJD : 5430\n",
      "SJA : 5430\n",
      "VCH : 13\n",
      "VCD : 13\n",
      "VCA : 13\n",
      "GBH : 21\n",
      "GBD : 21\n",
      "GBA : 21\n",
      "(22510, 29)\n"
     ]
    }
   ],
   "source": [
    "null_deger(df)"
   ]
  },
  {
   "cell_type": "code",
   "execution_count": 39,
   "metadata": {},
   "outputs": [
    {
     "name": "stdout",
     "output_type": "stream",
     "text": [
      "BWH\n",
      "BWD\n",
      "BWA\n"
     ]
    },
    {
     "name": "stderr",
     "output_type": "stream",
     "text": [
      "/home/huseyin/anaconda3/lib/python3.7/site-packages/ipykernel_launcher.py:20: SettingWithCopyWarning: \n",
      "A value is trying to be set on a copy of a slice from a DataFrame\n",
      "\n",
      "See the caveats in the documentation: http://pandas.pydata.org/pandas-docs/stable/indexing.html#indexing-view-versus-copy\n"
     ]
    },
    {
     "name": "stdout",
     "output_type": "stream",
     "text": [
      "IWH\n",
      "IWD\n",
      "IWA\n",
      "LBH\n",
      "LBD\n",
      "LBA\n",
      "WHH\n",
      "WHD\n",
      "WHA\n",
      "SJH\n",
      "SJD\n",
      "SJA\n",
      "VCH\n",
      "VCD\n",
      "VCA\n",
      "GBH\n",
      "GBD\n",
      "GBA\n",
      "SJD : 5430\n",
      "(22510, 29)\n"
     ]
    }
   ],
   "source": [
    "durum = [\"..H\",\"..D\",\"..A\"]\n",
    "\n",
    "ort = []\n",
    "std = []\n",
    "\n",
    "for j in durum:\n",
    "    ort.append(df[[k for k in df.columns if re.findall(j,k)]].mean(axis=1))\n",
    "    std.append(df[[k for k in df.columns if re.findall(j,k)]].std(axis=1))\n",
    "\n",
    "ass = null_deger2(df)\n",
    "dongu = 0\n",
    "j = 0\n",
    "for i in ass.keys():\n",
    "    print(i)\n",
    "    if(j == 3):\n",
    "        j = 0\n",
    "    for l in range(0,22510):\n",
    "        if(math.isnan(df[i][l])):\n",
    "            dongu+=1\n",
    "            df[i][l] = random.uniform(ort[j][l]    -    std[j][l]    ,     ort[j][l]    +    std[j][l])\n",
    "        elif(ass[i] == dongu):\n",
    "            dongu = 0\n",
    "            break\n",
    "    j+=1\n",
    "\n",
    "null_deger(df)"
   ]
  },
  {
   "cell_type": "code",
   "execution_count": 40,
   "metadata": {},
   "outputs": [
    {
     "name": "stderr",
     "output_type": "stream",
     "text": [
      "/home/huseyin/anaconda3/lib/python3.7/site-packages/ipykernel_launcher.py:3: SettingWithCopyWarning: \n",
      "A value is trying to be set on a copy of a slice from a DataFrame\n",
      "\n",
      "See the caveats in the documentation: http://pandas.pydata.org/pandas-docs/stable/indexing.html#indexing-view-versus-copy\n",
      "  This is separate from the ipykernel package so we can avoid doing imports until\n"
     ]
    }
   ],
   "source": [
    "for l in range(0,22510):\n",
    "    if(math.isnan(df[\"SJD\"][l])):\n",
    "        df[\"SJD\"][l] = random.uniform(ort[1][l]    -    std[1][l]    ,     ort[1][l]    +    std[1][l])"
   ]
  },
  {
   "cell_type": "code",
   "execution_count": 42,
   "metadata": {},
   "outputs": [],
   "source": [
    "kaydet(df,\"bitti\")"
   ]
  },
  {
   "cell_type": "code",
   "execution_count": 41,
   "metadata": {},
   "outputs": [
    {
     "name": "stdout",
     "output_type": "stream",
     "text": [
      "(22510, 29)\n"
     ]
    }
   ],
   "source": [
    "null_deger(df)"
   ]
  },
  {
   "cell_type": "code",
   "execution_count": 22,
   "metadata": {},
   "outputs": [
    {
     "name": "stdout",
     "output_type": "stream",
     "text": [
      "['B365H', 'BWH', 'IWH', 'LBH', 'WHH', 'SJH', 'VCH', 'GBH']\n",
      "['B365D', 'BWD', 'IWD', 'LBD', 'WHD', 'SJD', 'VCD', 'GBD']\n",
      "['B365A', 'BWA', 'IWA', 'LBA', 'WHA', 'SJA', 'VCA', 'GBA']\n"
     ]
    }
   ],
   "source": [
    "durum = [\"..H\",\"..D\",\"..A\"]\n",
    "\n",
    "ort = []\n",
    "std = []\n",
    "\n",
    "for j in durum:\n",
    "    print([k for k in df.columns if re.findall(j,k)])\n",
    "    ort.append(df[[k for k in df.columns if re.findall(j,k)]].mean(axis=1))\n",
    "    std.append(df[[k for k in df.columns if re.findall(j,k)]].std(axis=1))"
   ]
  },
  {
   "cell_type": "code",
   "execution_count": null,
   "metadata": {},
   "outputs": [],
   "source": []
  },
  {
   "cell_type": "code",
   "execution_count": null,
   "metadata": {},
   "outputs": [],
   "source": []
  },
  {
   "cell_type": "code",
   "execution_count": null,
   "metadata": {},
   "outputs": [],
   "source": []
  }
 ],
 "metadata": {
  "kernelspec": {
   "display_name": "Python 3",
   "language": "python",
   "name": "python3"
  },
  "language_info": {
   "codemirror_mode": {
    "name": "ipython",
    "version": 3
   },
   "file_extension": ".py",
   "mimetype": "text/x-python",
   "name": "python",
   "nbconvert_exporter": "python",
   "pygments_lexer": "ipython3",
   "version": "3.7.3"
  }
 },
 "nbformat": 4,
 "nbformat_minor": 4
}
