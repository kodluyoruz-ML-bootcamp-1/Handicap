{
 "cells": [
  {
   "cell_type": "code",
   "execution_count": 1,
   "metadata": {},
   "outputs": [],
   "source": [
    "import pandas as pd \n",
    "import numpy as np\n",
    "import sqlite3\n",
    "import itertools"
   ]
  },
  {
   "cell_type": "code",
   "execution_count": 62,
   "metadata": {},
   "outputs": [],
   "source": [
    "def null_deger(veri):\n",
    "    data = veri.isnull().sum()\n",
    "    for i in data.keys():\n",
    "        if data[i] != 0:\n",
    "            print(str(i)+\" : \"+str(data[i]))\n",
    "\n",
    "    print(veri.shape)"
   ]
  },
  {
   "cell_type": "code",
   "execution_count": 51,
   "metadata": {},
   "outputs": [],
   "source": []
  },
  {
   "cell_type": "code",
   "execution_count": 3,
   "metadata": {},
   "outputs": [],
   "source": [
    "def null_deger2(veri):\n",
    "    \n",
    "    sil = veri[veri[\"B365H\"].notnull()]\n",
    "    \n",
    "    kaydet(sil,\"bitiyor\")\n",
    "    \n",
    "    print(veri.shape)\n",
    "    "
   ]
  },
  {
   "cell_type": "code",
   "execution_count": 29,
   "metadata": {},
   "outputs": [],
   "source": [
    "def bosluklari_sil(a,sayi):\n",
    "    aa = a.T\n",
    "    b = aa.isnull().sum()    \n",
    "    a = aa.drop(columns = [i for i in b.keys() if b[i] > sayi],axis = 1)\n",
    "    aa = a.T\n",
    "    return aa"
   ]
  },
  {
   "cell_type": "code",
   "execution_count": 5,
   "metadata": {},
   "outputs": [],
   "source": [
    "def kaydet(a,name):\n",
    "    a.to_excel(name+\".xlsx\",index=False)"
   ]
  },
  {
   "cell_type": "code",
   "execution_count": 6,
   "metadata": {},
   "outputs": [
    {
     "name": "stdout",
     "output_type": "stream",
     "text": [
      "(25979, 35)\n",
      "season\n",
      "home_team_api_id\n",
      "away_team_api_id\n",
      "home_team_goal\n",
      "away_team_goal\n",
      "B365H\n",
      "B365D\n",
      "B365A\n",
      "BWH\n",
      "BWD\n",
      "BWA\n",
      "IWH\n",
      "IWD\n",
      "IWA\n",
      "LBH\n",
      "LBD\n",
      "LBA\n",
      "PSH\n",
      "PSD\n",
      "PSA\n",
      "WHH\n",
      "WHD\n",
      "WHA\n",
      "SJH\n",
      "SJD\n",
      "SJA\n",
      "VCH\n",
      "VCD\n",
      "VCA\n",
      "GBH\n",
      "GBD\n",
      "GBA\n",
      "BSH\n",
      "BSD\n",
      "BSA\n"
     ]
    }
   ],
   "source": [
    "adres = \"sqlite_baslangic.xlsx\"\n",
    "\n",
    "df = pd.read_excel(adres,index_col=0, error_bad_lines=False)\n",
    "\n",
    "# veritabani_takimlistesi = pd.read_excel(\"Documents/bitti.xlsx\",index_col=0, error_bad_lines=False)\n",
    "\n",
    "null_deger2(df)\n",
    "\n",
    "for i in df.columns:\n",
    "    print(i)"
   ]
  },
  {
   "cell_type": "code",
   "execution_count": 7,
   "metadata": {},
   "outputs": [],
   "source": [
    "df = pd.read_excel(\"bitiyor.xlsx\",index_col=0, error_bad_lines=False)"
   ]
  },
  {
   "cell_type": "code",
   "execution_count": 20,
   "metadata": {},
   "outputs": [],
   "source": [
    "bir = df[df[\"season\"] == \"2008/2009\"]\n",
    "iki = df[df[\"season\"] == \"2009/2010\"]\n",
    "uc = df[df[\"season\"] == \"2010/2011\"]\n",
    "dort = df[df[\"season\"] == \"2011/2012\"]\n",
    "bes = df[df[\"season\"] == \"2012/2013\"]\n",
    "alti = df[df[\"season\"] == \"2013/2014\"]\n",
    "yedi = df[df[\"season\"] == \"2014/2015\"]\n",
    "sekiz = df[df[\"season\"] == \"2015/2016\"]\n",
    "\n",
    "b = pd.concat([bir,iki,uc,dort,bes,alti,yedi,sekiz])\n"
   ]
  },
  {
   "cell_type": "code",
   "execution_count": 21,
   "metadata": {},
   "outputs": [
    {
     "name": "stdout",
     "output_type": "stream",
     "text": [
      "BWH : 20\n",
      "BWD : 20\n",
      "BWA : 20\n",
      "IWH : 76\n",
      "IWD : 76\n",
      "IWA : 76\n",
      "LBH : 39\n",
      "LBD : 39\n",
      "LBA : 39\n",
      "PSH : 11425\n",
      "PSD : 11425\n",
      "PSA : 11425\n",
      "WHH : 24\n",
      "WHD : 24\n",
      "WHA : 24\n",
      "SJH : 5497\n",
      "SJD : 5497\n",
      "SJA : 5497\n",
      "VCH : 26\n",
      "VCD : 26\n",
      "VCA : 26\n",
      "GBH : 8432\n",
      "GBD : 8432\n",
      "GBA : 8432\n",
      "BSH : 8432\n",
      "BSD : 8432\n",
      "BSA : 8432\n",
      "(22592, 35)\n"
     ]
    }
   ],
   "source": [
    "null_deger(b)"
   ]
  },
  {
   "cell_type": "code",
   "execution_count": 22,
   "metadata": {},
   "outputs": [],
   "source": [
    "kaydet(b,\"birlestirme\")"
   ]
  },
  {
   "cell_type": "code",
   "execution_count": 36,
   "metadata": {},
   "outputs": [
    {
     "name": "stdout",
     "output_type": "stream",
     "text": [
      "BWH : 3\n",
      "BWD : 3\n",
      "BWA : 3\n",
      "IWH : 5\n",
      "IWD : 5\n",
      "IWA : 5\n",
      "LBH : 10\n",
      "LBD : 10\n",
      "LBA : 10\n",
      "PSH : 42\n",
      "PSD : 42\n",
      "PSA : 42\n",
      "WHH : 2\n",
      "WHD : 2\n",
      "WHA : 2\n",
      "SJH : 3\n",
      "SJD : 3\n",
      "SJA : 3\n",
      "VCH : 2\n",
      "VCD : 2\n",
      "VCA : 2\n",
      "GBH : 14\n",
      "GBD : 14\n",
      "GBA : 14\n",
      "BSH : 2\n",
      "BSD : 2\n",
      "BSA : 2\n",
      "(2832, 35)\n"
     ]
    }
   ],
   "source": [
    "null_deger(bes)"
   ]
  },
  {
   "cell_type": "code",
   "execution_count": 77,
   "metadata": {},
   "outputs": [],
   "source": [
    "df = pd.read_excel(\"birlestirme.xlsx\",index_col=0, error_bad_lines=False)"
   ]
  },
  {
   "cell_type": "code",
   "execution_count": 78,
   "metadata": {},
   "outputs": [
    {
     "name": "stdout",
     "output_type": "stream",
     "text": [
      "BWH : 20\n",
      "BWD : 20\n",
      "BWA : 20\n",
      "IWH : 76\n",
      "IWD : 76\n",
      "IWA : 76\n",
      "LBH : 39\n",
      "LBD : 39\n",
      "LBA : 39\n",
      "WHH : 24\n",
      "WHD : 24\n",
      "WHA : 24\n",
      "SJH : 5497\n",
      "SJD : 5497\n",
      "SJA : 5497\n",
      "VCH : 26\n",
      "VCD : 26\n",
      "VCA : 26\n",
      "GBH : 55\n",
      "GBD : 55\n",
      "GBA : 55\n",
      "BSH : 8432\n",
      "BSD : 8432\n",
      "BSA : 8432\n",
      "(22592, 31)\n"
     ]
    }
   ],
   "source": [
    "null_deger(df)"
   ]
  },
  {
   "cell_type": "code",
   "execution_count": 79,
   "metadata": {},
   "outputs": [
    {
     "data": {
      "text/html": [
       "<div>\n",
       "<style scoped>\n",
       "    .dataframe tbody tr th:only-of-type {\n",
       "        vertical-align: middle;\n",
       "    }\n",
       "\n",
       "    .dataframe tbody tr th {\n",
       "        vertical-align: top;\n",
       "    }\n",
       "\n",
       "    .dataframe thead th {\n",
       "        text-align: right;\n",
       "    }\n",
       "</style>\n",
       "<table border=\"1\" class=\"dataframe\">\n",
       "  <thead>\n",
       "    <tr style=\"text-align: right;\">\n",
       "      <th></th>\n",
       "      <th>season</th>\n",
       "      <th>home_team_api_id</th>\n",
       "      <th>away_team_api_id</th>\n",
       "      <th>home_team_goal</th>\n",
       "      <th>away_team_goal</th>\n",
       "      <th>B365H</th>\n",
       "      <th>B365D</th>\n",
       "      <th>B365A</th>\n",
       "      <th>BWH</th>\n",
       "      <th>BWD</th>\n",
       "      <th>...</th>\n",
       "      <th>SJA</th>\n",
       "      <th>VCH</th>\n",
       "      <th>VCD</th>\n",
       "      <th>VCA</th>\n",
       "      <th>GBH</th>\n",
       "      <th>GBD</th>\n",
       "      <th>GBA</th>\n",
       "      <th>BSH</th>\n",
       "      <th>BSD</th>\n",
       "      <th>BSA</th>\n",
       "    </tr>\n",
       "  </thead>\n",
       "  <tbody>\n",
       "    <tr>\n",
       "      <th>0</th>\n",
       "      <td>2008/2009</td>\n",
       "      <td>9987</td>\n",
       "      <td>9993</td>\n",
       "      <td>1</td>\n",
       "      <td>1</td>\n",
       "      <td>1.73</td>\n",
       "      <td>3.40</td>\n",
       "      <td>5.00</td>\n",
       "      <td>1.75</td>\n",
       "      <td>3.35</td>\n",
       "      <td>...</td>\n",
       "      <td>4.00</td>\n",
       "      <td>1.65</td>\n",
       "      <td>3.40</td>\n",
       "      <td>4.50</td>\n",
       "      <td>1.78</td>\n",
       "      <td>3.25</td>\n",
       "      <td>4.00</td>\n",
       "      <td>1.73</td>\n",
       "      <td>3.40</td>\n",
       "      <td>4.20</td>\n",
       "    </tr>\n",
       "    <tr>\n",
       "      <th>1</th>\n",
       "      <td>2008/2009</td>\n",
       "      <td>10000</td>\n",
       "      <td>9994</td>\n",
       "      <td>0</td>\n",
       "      <td>0</td>\n",
       "      <td>1.95</td>\n",
       "      <td>3.20</td>\n",
       "      <td>3.60</td>\n",
       "      <td>1.80</td>\n",
       "      <td>3.30</td>\n",
       "      <td>...</td>\n",
       "      <td>3.80</td>\n",
       "      <td>2.00</td>\n",
       "      <td>3.25</td>\n",
       "      <td>3.25</td>\n",
       "      <td>1.85</td>\n",
       "      <td>3.25</td>\n",
       "      <td>3.75</td>\n",
       "      <td>1.91</td>\n",
       "      <td>3.25</td>\n",
       "      <td>3.60</td>\n",
       "    </tr>\n",
       "    <tr>\n",
       "      <th>2</th>\n",
       "      <td>2008/2009</td>\n",
       "      <td>9984</td>\n",
       "      <td>8635</td>\n",
       "      <td>0</td>\n",
       "      <td>3</td>\n",
       "      <td>2.38</td>\n",
       "      <td>3.30</td>\n",
       "      <td>2.75</td>\n",
       "      <td>2.40</td>\n",
       "      <td>3.30</td>\n",
       "      <td>...</td>\n",
       "      <td>2.50</td>\n",
       "      <td>2.35</td>\n",
       "      <td>3.25</td>\n",
       "      <td>2.65</td>\n",
       "      <td>2.50</td>\n",
       "      <td>3.20</td>\n",
       "      <td>2.50</td>\n",
       "      <td>2.30</td>\n",
       "      <td>3.20</td>\n",
       "      <td>2.75</td>\n",
       "    </tr>\n",
       "    <tr>\n",
       "      <th>3</th>\n",
       "      <td>2008/2009</td>\n",
       "      <td>9991</td>\n",
       "      <td>9998</td>\n",
       "      <td>5</td>\n",
       "      <td>0</td>\n",
       "      <td>1.44</td>\n",
       "      <td>3.75</td>\n",
       "      <td>7.50</td>\n",
       "      <td>1.40</td>\n",
       "      <td>4.00</td>\n",
       "      <td>...</td>\n",
       "      <td>7.50</td>\n",
       "      <td>1.45</td>\n",
       "      <td>3.75</td>\n",
       "      <td>6.50</td>\n",
       "      <td>1.50</td>\n",
       "      <td>3.75</td>\n",
       "      <td>5.50</td>\n",
       "      <td>1.44</td>\n",
       "      <td>3.75</td>\n",
       "      <td>6.50</td>\n",
       "    </tr>\n",
       "    <tr>\n",
       "      <th>4</th>\n",
       "      <td>2008/2009</td>\n",
       "      <td>7947</td>\n",
       "      <td>9985</td>\n",
       "      <td>1</td>\n",
       "      <td>3</td>\n",
       "      <td>5.00</td>\n",
       "      <td>3.50</td>\n",
       "      <td>1.65</td>\n",
       "      <td>5.00</td>\n",
       "      <td>3.50</td>\n",
       "      <td>...</td>\n",
       "      <td>1.73</td>\n",
       "      <td>4.50</td>\n",
       "      <td>3.40</td>\n",
       "      <td>1.65</td>\n",
       "      <td>4.50</td>\n",
       "      <td>3.50</td>\n",
       "      <td>1.65</td>\n",
       "      <td>4.75</td>\n",
       "      <td>3.30</td>\n",
       "      <td>1.67</td>\n",
       "    </tr>\n",
       "  </tbody>\n",
       "</table>\n",
       "<p>5 rows × 32 columns</p>\n",
       "</div>"
      ],
      "text/plain": [
       "      season  home_team_api_id  away_team_api_id  home_team_goal  \\\n",
       "0  2008/2009              9987              9993               1   \n",
       "1  2008/2009             10000              9994               0   \n",
       "2  2008/2009              9984              8635               0   \n",
       "3  2008/2009              9991              9998               5   \n",
       "4  2008/2009              7947              9985               1   \n",
       "\n",
       "   away_team_goal  B365H  B365D  B365A   BWH   BWD  ...   SJA   VCH   VCD  \\\n",
       "0               1   1.73   3.40   5.00  1.75  3.35  ...  4.00  1.65  3.40   \n",
       "1               0   1.95   3.20   3.60  1.80  3.30  ...  3.80  2.00  3.25   \n",
       "2               3   2.38   3.30   2.75  2.40  3.30  ...  2.50  2.35  3.25   \n",
       "3               0   1.44   3.75   7.50  1.40  4.00  ...  7.50  1.45  3.75   \n",
       "4               3   5.00   3.50   1.65  5.00  3.50  ...  1.73  4.50  3.40   \n",
       "\n",
       "    VCA   GBH   GBD   GBA   BSH   BSD   BSA  \n",
       "0  4.50  1.78  3.25  4.00  1.73  3.40  4.20  \n",
       "1  3.25  1.85  3.25  3.75  1.91  3.25  3.60  \n",
       "2  2.65  2.50  3.20  2.50  2.30  3.20  2.75  \n",
       "3  6.50  1.50  3.75  5.50  1.44  3.75  6.50  \n",
       "4  1.65  4.50  3.50  1.65  4.75  3.30  1.67  \n",
       "\n",
       "[5 rows x 32 columns]"
      ]
     },
     "execution_count": 79,
     "metadata": {},
     "output_type": "execute_result"
    }
   ],
   "source": [
    "df=df.reset_index()\n",
    "df.head()"
   ]
  },
  {
   "cell_type": "code",
   "execution_count": 21,
   "metadata": {},
   "outputs": [],
   "source": [
    "df = pd.read_excel(\"birlestirme2.xlsx\",index_col=0, error_bad_lines=False)"
   ]
  },
  {
   "cell_type": "raw",
   "metadata": {},
   "source": []
  },
  {
   "cell_type": "code",
   "execution_count": 12,
   "metadata": {},
   "outputs": [
    {
     "name": "stdout",
     "output_type": "stream",
     "text": [
      "(22592, 32)\n"
     ]
    }
   ],
   "source": [
    "print(df.shape)"
   ]
  },
  {
   "cell_type": "code",
   "execution_count": 9,
   "metadata": {},
   "outputs": [],
   "source": []
  },
  {
   "cell_type": "code",
   "execution_count": 10,
   "metadata": {},
   "outputs": [
    {
     "name": "stdout",
     "output_type": "stream",
     "text": [
      "BWH : 4\n",
      "BWD : 4\n",
      "BWA : 4\n",
      "IWH : 6\n",
      "IWD : 6\n",
      "IWA : 6\n",
      "LBH : 3\n",
      "LBD : 3\n",
      "LBA : 3\n",
      "WHH : 3\n",
      "WHD : 3\n",
      "WHA : 3\n",
      "SJH : 4\n",
      "SJD : 4\n",
      "SJA : 4\n",
      "VCH : 6\n",
      "VCD : 6\n",
      "VCA : 6\n",
      "GBH : 6\n",
      "GBD : 6\n",
      "GBA : 6\n",
      "BSH : 6\n",
      "BSD : 6\n",
      "BSA : 6\n",
      "(8, 32)\n"
     ]
    }
   ],
   "source": [
    "null_deger(df)"
   ]
  },
  {
   "cell_type": "code",
   "execution_count": 22,
   "metadata": {},
   "outputs": [],
   "source": []
  },
  {
   "cell_type": "code",
   "execution_count": null,
   "metadata": {},
   "outputs": [],
   "source": []
  },
  {
   "cell_type": "code",
   "execution_count": 23,
   "metadata": {},
   "outputs": [],
   "source": []
  },
  {
   "cell_type": "code",
   "execution_count": 24,
   "metadata": {},
   "outputs": [
    {
     "name": "stdout",
     "output_type": "stream",
     "text": [
      "(32, 22584)\n"
     ]
    }
   ],
   "source": [
    "print(a.shape)"
   ]
  },
  {
   "cell_type": "code",
   "execution_count": 25,
   "metadata": {},
   "outputs": [],
   "source": [
    "df = a.T"
   ]
  },
  {
   "cell_type": "code",
   "execution_count": 20,
   "metadata": {},
   "outputs": [],
   "source": [
    "kaydet(df,\"silindi\")"
   ]
  },
  {
   "cell_type": "code",
   "execution_count": 26,
   "metadata": {},
   "outputs": [
    {
     "name": "stdout",
     "output_type": "stream",
     "text": [
      "BWH : 16\n",
      "BWD : 16\n",
      "BWA : 16\n",
      "IWH : 70\n",
      "IWD : 70\n",
      "IWA : 70\n",
      "LBH : 36\n",
      "LBD : 36\n",
      "LBA : 36\n",
      "WHH : 21\n",
      "WHD : 21\n",
      "WHA : 21\n",
      "SJH : 5493\n",
      "SJD : 5493\n",
      "SJA : 5493\n",
      "VCH : 20\n",
      "VCD : 20\n",
      "VCA : 20\n",
      "GBH : 49\n",
      "GBD : 49\n",
      "GBA : 49\n",
      "BSH : 8426\n",
      "BSD : 8426\n",
      "BSA : 8426\n",
      "(22584, 32)\n"
     ]
    }
   ],
   "source": [
    "null_deger(df)"
   ]
  },
  {
   "cell_type": "code",
   "execution_count": 35,
   "metadata": {},
   "outputs": [],
   "source": [
    "zx = bosluklari_sil(df,6)"
   ]
  },
  {
   "cell_type": "raw",
   "metadata": {},
   "source": []
  },
  {
   "cell_type": "code",
   "execution_count": 36,
   "metadata": {},
   "outputs": [
    {
     "name": "stdout",
     "output_type": "stream",
     "text": [
      "BWH : 8\n",
      "BWD : 8\n",
      "BWA : 8\n",
      "IWH : 47\n",
      "IWD : 47\n",
      "IWA : 47\n",
      "LBH : 28\n",
      "LBD : 28\n",
      "LBA : 28\n",
      "WHH : 19\n",
      "WHD : 19\n",
      "WHA : 19\n",
      "SJH : 5432\n",
      "SJD : 5432\n",
      "SJA : 5432\n",
      "VCH : 14\n",
      "VCD : 14\n",
      "VCA : 14\n",
      "GBH : 27\n",
      "GBD : 27\n",
      "GBA : 27\n",
      "BSH : 8370\n",
      "BSD : 8370\n",
      "BSA : 8370\n",
      "(22522, 32)\n"
     ]
    }
   ],
   "source": [
    "null_deger(zx)"
   ]
  },
  {
   "cell_type": "code",
   "execution_count": 32,
   "metadata": {},
   "outputs": [],
   "source": [
    "kaydet(zx,\"silindi2(son)\")"
   ]
  },
  {
   "cell_type": "code",
   "execution_count": 43,
   "metadata": {},
   "outputs": [],
   "source": [
    "zx = zx.drop(columns=[\"BSH\",\"BSD\",\"BSA\"],axis=1)"
   ]
  },
  {
   "cell_type": "code",
   "execution_count": 40,
   "metadata": {},
   "outputs": [
    {
     "name": "stdout",
     "output_type": "stream",
     "text": [
      "BWH : 8\n",
      "BWD : 8\n",
      "BWA : 8\n",
      "IWH : 47\n",
      "IWD : 47\n",
      "IWA : 47\n",
      "LBH : 28\n",
      "LBD : 28\n",
      "LBA : 28\n",
      "WHH : 19\n",
      "WHD : 19\n",
      "WHA : 19\n",
      "SJH : 5432\n",
      "SJD : 5432\n",
      "SJA : 5432\n",
      "VCH : 14\n",
      "VCD : 14\n",
      "VCA : 14\n",
      "GBH : 27\n",
      "GBD : 27\n",
      "GBA : 27\n",
      "(22522, 29)\n"
     ]
    }
   ],
   "source": [
    "null_deger(zx)"
   ]
  },
  {
   "cell_type": "code",
   "execution_count": 44,
   "metadata": {},
   "outputs": [],
   "source": [
    "zx = bosluklari_sil(zx,5)"
   ]
  },
  {
   "cell_type": "code",
   "execution_count": 45,
   "metadata": {},
   "outputs": [
    {
     "name": "stdout",
     "output_type": "stream",
     "text": [
      "BWH : 1\n",
      "BWD : 1\n",
      "BWA : 1\n",
      "IWH : 44\n",
      "IWD : 44\n",
      "IWA : 44\n",
      "LBH : 25\n",
      "LBD : 25\n",
      "LBA : 25\n",
      "WHH : 17\n",
      "WHD : 17\n",
      "WHA : 17\n",
      "SJH : 5430\n",
      "SJD : 5430\n",
      "SJA : 5430\n",
      "VCH : 13\n",
      "VCD : 13\n",
      "VCA : 13\n",
      "GBH : 21\n",
      "GBD : 21\n",
      "GBA : 21\n",
      "(22510, 29)\n"
     ]
    }
   ],
   "source": [
    "null_deger(zx)"
   ]
  },
  {
   "cell_type": "code",
   "execution_count": 46,
   "metadata": {},
   "outputs": [],
   "source": [
    "kaydet(zx,\"silindi2(BSHsız)\")"
   ]
  },
  {
   "cell_type": "code",
   "execution_count": 52,
   "metadata": {},
   "outputs": [
    {
     "name": "stdout",
     "output_type": "stream",
     "text": [
      "id\n",
      "season\n",
      "home_team_api_id\n",
      "away_team_api_id\n",
      "home_team_goal\n",
      "away_team_goal\n",
      "B365H\n",
      "B365D\n",
      "B365A\n",
      "BWH\n",
      "BWD\n",
      "BWA\n",
      "IWH\n",
      "IWD\n",
      "IWA\n",
      "LBH\n",
      "LBD\n",
      "LBA\n",
      "WHH\n",
      "WHD\n",
      "WHA\n",
      "SJH\n",
      "SJD\n",
      "SJA\n",
      "VCH\n",
      "VCD\n",
      "VCA\n",
      "GBH\n",
      "GBD\n",
      "GBA\n"
     ]
    }
   ],
   "source": [
    "adres = \"silindi2(BSHsız).xlsx\"\n",
    "\n",
    "df = pd.read_excel(adres,index_col=0, error_bad_lines=False)\n",
    "\n",
    "for i in df.columns:\n",
    "    print(i)"
   ]
  },
  {
   "cell_type": "code",
   "execution_count": 63,
   "metadata": {},
   "outputs": [
    {
     "ename": "ValueError",
     "evalue": "The truth value of a Series is ambiguous. Use a.empty, a.bool(), a.item(), a.any() or a.all().",
     "output_type": "error",
     "traceback": [
      "\u001b[0;31m---------------------------------------------------------------------------\u001b[0m",
      "\u001b[0;31mValueError\u001b[0m                                Traceback (most recent call last)",
      "\u001b[0;32m<ipython-input-63-5b5051e1180b>\u001b[0m in \u001b[0;36m<module>\u001b[0;34m\u001b[0m\n\u001b[1;32m      1\u001b[0m \u001b[0mdf\u001b[0m \u001b[0;34m=\u001b[0m \u001b[0mdf\u001b[0m\u001b[0;34m.\u001b[0m\u001b[0mT\u001b[0m\u001b[0;34m\u001b[0m\u001b[0;34m\u001b[0m\u001b[0m\n\u001b[0;32m----> 2\u001b[0;31m \u001b[0mnull_deger\u001b[0m\u001b[0;34m(\u001b[0m\u001b[0mdf\u001b[0m\u001b[0;34m)\u001b[0m\u001b[0;34m\u001b[0m\u001b[0;34m\u001b[0m\u001b[0m\n\u001b[0m",
      "\u001b[0;32m<ipython-input-62-d58f5edf8b3e>\u001b[0m in \u001b[0;36mnull_deger\u001b[0;34m(veri)\u001b[0m\n\u001b[1;32m      2\u001b[0m     \u001b[0mdata\u001b[0m \u001b[0;34m=\u001b[0m \u001b[0mveri\u001b[0m\u001b[0;34m.\u001b[0m\u001b[0misnull\u001b[0m\u001b[0;34m(\u001b[0m\u001b[0;34m)\u001b[0m\u001b[0;34m.\u001b[0m\u001b[0msum\u001b[0m\u001b[0;34m(\u001b[0m\u001b[0;34m)\u001b[0m\u001b[0;34m\u001b[0m\u001b[0;34m\u001b[0m\u001b[0m\n\u001b[1;32m      3\u001b[0m     \u001b[0;32mfor\u001b[0m \u001b[0mi\u001b[0m \u001b[0;32min\u001b[0m \u001b[0mdata\u001b[0m\u001b[0;34m.\u001b[0m\u001b[0mkeys\u001b[0m\u001b[0;34m(\u001b[0m\u001b[0;34m)\u001b[0m\u001b[0;34m:\u001b[0m\u001b[0;34m\u001b[0m\u001b[0;34m\u001b[0m\u001b[0m\n\u001b[0;32m----> 4\u001b[0;31m         \u001b[0;32mif\u001b[0m \u001b[0mdata\u001b[0m\u001b[0;34m[\u001b[0m\u001b[0mi\u001b[0m\u001b[0;34m]\u001b[0m \u001b[0;34m!=\u001b[0m \u001b[0;36m0\u001b[0m\u001b[0;34m:\u001b[0m\u001b[0;34m\u001b[0m\u001b[0;34m\u001b[0m\u001b[0m\n\u001b[0m\u001b[1;32m      5\u001b[0m             \u001b[0mprint\u001b[0m\u001b[0;34m(\u001b[0m\u001b[0mstr\u001b[0m\u001b[0;34m(\u001b[0m\u001b[0mi\u001b[0m\u001b[0;34m)\u001b[0m\u001b[0;34m+\u001b[0m\u001b[0;34m\" : \"\u001b[0m\u001b[0;34m+\u001b[0m\u001b[0mstr\u001b[0m\u001b[0;34m(\u001b[0m\u001b[0mdata\u001b[0m\u001b[0;34m[\u001b[0m\u001b[0mi\u001b[0m\u001b[0;34m]\u001b[0m\u001b[0;34m)\u001b[0m\u001b[0;34m)\u001b[0m\u001b[0;34m\u001b[0m\u001b[0;34m\u001b[0m\u001b[0m\n\u001b[1;32m      6\u001b[0m \u001b[0;34m\u001b[0m\u001b[0m\n",
      "\u001b[0;32m~/anaconda3/lib/python3.7/site-packages/pandas/core/generic.py\u001b[0m in \u001b[0;36m__nonzero__\u001b[0;34m(self)\u001b[0m\n\u001b[1;32m   1476\u001b[0m         raise ValueError(\"The truth value of a {0} is ambiguous. \"\n\u001b[1;32m   1477\u001b[0m                          \u001b[0;34m\"Use a.empty, a.bool(), a.item(), a.any() or a.all().\"\u001b[0m\u001b[0;34m\u001b[0m\u001b[0;34m\u001b[0m\u001b[0m\n\u001b[0;32m-> 1478\u001b[0;31m                          .format(self.__class__.__name__))\n\u001b[0m\u001b[1;32m   1479\u001b[0m \u001b[0;34m\u001b[0m\u001b[0m\n\u001b[1;32m   1480\u001b[0m     \u001b[0m__bool__\u001b[0m \u001b[0;34m=\u001b[0m \u001b[0m__nonzero__\u001b[0m\u001b[0;34m\u001b[0m\u001b[0;34m\u001b[0m\u001b[0m\n",
      "\u001b[0;31mValueError\u001b[0m: The truth value of a Series is ambiguous. Use a.empty, a.bool(), a.item(), a.any() or a.all()."
     ]
    }
   ],
   "source": [
    "df = df.T\n",
    "null_deger(df)"
   ]
  },
  {
   "cell_type": "code",
   "execution_count": null,
   "metadata": {},
   "outputs": [],
   "source": []
  }
 ],
 "metadata": {
  "kernelspec": {
   "display_name": "Python 3",
   "language": "python",
   "name": "python3"
  },
  "language_info": {
   "codemirror_mode": {
    "name": "ipython",
    "version": 3
   },
   "file_extension": ".py",
   "mimetype": "text/x-python",
   "name": "python",
   "nbconvert_exporter": "python",
   "pygments_lexer": "ipython3",
   "version": "3.7.3"
  }
 },
 "nbformat": 4,
 "nbformat_minor": 4
}
